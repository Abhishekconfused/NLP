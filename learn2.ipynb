{
 "cells": [
  {
   "cell_type": "code",
   "execution_count": 1,
   "metadata": {},
   "outputs": [],
   "source": [
    "import cv2\n",
    "from PIL import Image\n",
    "import pytesseract"
   ]
  },
  {
   "cell_type": "code",
   "execution_count": 2,
   "id": "befbde8d",
   "metadata": {},
   "outputs": [],
   "source": [
    "impfile=\"E:\\ICG upskilling\\OCR\\page_01.jpg\""
   ]
  },
  {
   "cell_type": "code",
   "execution_count": 3,
   "id": "d862a4d0",
   "metadata": {},
   "outputs": [],
   "source": [
    "img=Image.open(impfile)"
   ]
  },
  {
   "cell_type": "code",
   "execution_count": 4,
   "id": "4ed94e93",
   "metadata": {},
   "outputs": [],
   "source": [
    "ocr=pytesseract.image_to_string(img)"
   ]
  },
  {
   "cell_type": "code",
   "execution_count": 5,
   "id": "a82f23fe",
   "metadata": {},
   "outputs": [
    {
     "data": {
      "text/plain": [
       "''"
      ]
     },
     "execution_count": 5,
     "metadata": {},
     "output_type": "execute_result"
    }
   ],
   "source": [
    "ocr"
   ]
  },
  {
   "cell_type": "code",
   "execution_count": 6,
   "id": "b1a36e15",
   "metadata": {},
   "outputs": [],
   "source": [
    "noice=\"E:\\ICG upskilling\\OCR\\\\bw_image.jpg\"\n",
    "imgg=Image.open(noice)"
   ]
  },
  {
   "cell_type": "code",
   "execution_count": 7,
   "id": "9be25b4f",
   "metadata": {},
   "outputs": [],
   "source": [
    "ocrr=pytesseract.image_to_string(imgg)"
   ]
  },
  {
   "cell_type": "code",
   "execution_count": 9,
   "id": "78a64954",
   "metadata": {},
   "outputs": [
    {
     "name": "stdout",
     "output_type": "stream",
     "text": [
      "“GABRIEL Meamall —\n",
      "\n",
      "On Easter morning in the year 1944, I took my six-year~old\n",
      "son by the hand and began walking from my home town toward the\n",
      "valleys and forests of the Carpathian mountains... For nearly\n",
      "eight months we livea in barns, attics and makeshift cabins. With\n",
      "the generous help of an unusually courageous man, we managed to\n",
      "survive Europe's greatest. fit of madness. Those who walked in\n",
      "the opposite direction on that Easter day were less fortunate.\n",
      "They were taken in trainloads to places whose once obscure names.\n",
      "are now, and forever will be, synonymous with terror, evil and\n",
      "death. What follows is our story of survival told to the best\n",
      "of my ability, in plain, simple language.\n",
      "\n",
      "In March of 1944 the SS troops took over the internal. affeirs\n",
      "of Hungary and proceeded to organize the deportation of the Tews.\n",
      "fo the Nazis this vas a routine assignment; within hours all leeal\n",
      "efficials were informed of operational plans. The high commend\n",
      "issted a directive designed to placate Jewish fears and induce\n",
      "cooperation. It was announced that the Jews. would be. shipped to\n",
      "Poland as an emergency labor force and that they were only being\n",
      "drafted for temporary work. There were many who believed. this :\n",
      "version. Others, less credulous, resigned themselves and. hoped for\n",
      "the best. Still others began to make plans for escape, By April\n",
      "13 the Hungarian Jews were being rounded up from all over the i\n",
      "‘country in what was once a huge prick factory. The rest le well\n",
      "known, . :\n",
      "\n",
      "I was working in Ungvar and usually came home on weeleride.\n",
      "At that time it was no longer possible for a Jew to travel freely.\n",
      "\n",
      "\n"
     ]
    }
   ],
   "source": [
    "print(ocrr)"
   ]
  },
  {
   "cell_type": "code",
   "execution_count": 11,
   "id": "74c54e65",
   "metadata": {},
   "outputs": [],
   "source": [
    "hin=\"C:\\\\Users\\\\abhis\\OneDrive\\Desktop\\Screenshot 2024-06-13 154222.jpg\""
   ]
  },
  {
   "cell_type": "code",
   "execution_count": 12,
   "id": "9a5b3e03",
   "metadata": {},
   "outputs": [],
   "source": [
    "hinimg=Image.open(hin)"
   ]
  },
  {
   "cell_type": "code",
   "execution_count": 13,
   "id": "b5565b44",
   "metadata": {},
   "outputs": [],
   "source": [
    "occrrr=pytesseract.image_to_string(hinimg)"
   ]
  },
  {
   "cell_type": "code",
   "execution_count": 15,
   "id": "e808e8ad",
   "metadata": {},
   "outputs": [
    {
     "name": "stdout",
     "output_type": "stream",
     "text": [
      "(2) -\n",
      "ere wrens ot ah, oh aera wera PL 8, Fea sere dene we TAT APT\n",
      "& sreraften eftere a aiftea wel AL ere wa PSs caren at meh 2, rae SA TTT\n",
      "fea STAT ara 8 |\n",
      "\n",
      "atrgnt ar sept ua gedea serafte anaes efter m0 Sat ATT\n",
      "oe Bre Soe Fa mares I TI aT wet ga el areal PST aeftefea\n",
      "a feift ses adh aan afta er Bem a ara wg ax mena AT\n",
      "TIE Het A ae Sa 21\n",
      "\n",
      "oa: amt aah ar eRe fear saat & FH mo Seq = ara wRE At\n",
      "srw omit % ina oa ee Per gen wa Ret fraser)\n",
      "Pamract-2021 4 Qo) aae % aqaK aera a ayol ak aReRa agate\n",
      "itera aif eat eRe eet) aaa eters sia fel aA & aeaer F za\n",
      "Fees SRS we A Pris oho ws fee ar wer @ seen aha at oa, af\n",
      "feet ore ar acta ara ea eit argue § ean ach anf 8 dt wok Pex\n",
      "Praargar wor ararét Ft sr\n",
      "\n",
      "\n"
     ]
    }
   ],
   "source": [
    "print(occrrr)"
   ]
  },
  {
   "cell_type": "code",
   "execution_count": 16,
   "id": "1b6e5912",
   "metadata": {},
   "outputs": [],
   "source": [
    "index=\"E:\\ICG upskilling\\OCR\\index_02.JPG\""
   ]
  },
  {
   "cell_type": "code",
   "execution_count": 17,
   "id": "c5b4f0dc",
   "metadata": {},
   "outputs": [],
   "source": [
    "images=Image.open(index)"
   ]
  },
  {
   "cell_type": "code",
   "execution_count": 23,
   "id": "c2d6c35a",
   "metadata": {},
   "outputs": [],
   "source": [
    "import cv2"
   ]
  },
  {
   "cell_type": "code",
   "execution_count": 25,
   "id": "2bb1fe1b",
   "metadata": {},
   "outputs": [],
   "source": [
    "image = cv2.imread(\"E:\\ICG upskilling\\OCR\\index_02.JPG\")\n",
    "base_image = image.copy()"
   ]
  },
  {
   "cell_type": "code",
   "execution_count": 26,
   "id": "a752383b",
   "metadata": {},
   "outputs": [],
   "source": [
    "gray = cv2.cvtColor(image, cv2.COLOR_BGR2GRAY)"
   ]
  },
  {
   "cell_type": "code",
   "execution_count": 27,
   "id": "07de9e81",
   "metadata": {},
   "outputs": [
    {
     "data": {
      "text/plain": [
       "True"
      ]
     },
     "execution_count": 27,
     "metadata": {},
     "output_type": "execute_result"
    }
   ],
   "source": [
    "cv2.imwrite(\"E:\\ICG upskilling\\OCR\\index_gray.png\", gray)"
   ]
  },
  {
   "cell_type": "code",
   "execution_count": null,
   "id": "4e20d96a",
   "metadata": {},
   "outputs": [],
   "source": []
  }
 ],
 "metadata": {
  "kernelspec": {
   "display_name": "Python 3",
   "language": "python",
   "name": "python3"
  },
  "language_info": {
   "codemirror_mode": {
    "name": "ipython",
    "version": 3
   },
   "file_extension": ".py",
   "mimetype": "text/x-python",
   "name": "python",
   "nbconvert_exporter": "python",
   "pygments_lexer": "ipython3",
   "version": "3.11.5"
  }
 },
 "nbformat": 4,
 "nbformat_minor": 5
}
