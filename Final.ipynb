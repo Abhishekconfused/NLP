{
  "nbformat": 4,
  "nbformat_minor": 0,
  "metadata": {
    "colab": {
      "provenance": [],
      "mount_file_id": "11lg82ChaJM20M2aG37rO-zgyTo1TCtTg",
      "authorship_tag": "ABX9TyMSHu45FZNtmJjMPgjDGBLw",
      "include_colab_link": true
    },
    "kernelspec": {
      "name": "python3",
      "display_name": "Python 3"
    },
    "language_info": {
      "name": "python"
    }
  },
  "cells": [
    {
      "cell_type": "markdown",
      "metadata": {
        "id": "view-in-github",
        "colab_type": "text"
      },
      "source": [
        "<a href=\"https://colab.research.google.com/github/Abhishekconfused/NLP/blob/main/Final.ipynb\" target=\"_parent\"><img src=\"https://colab.research.google.com/assets/colab-badge.svg\" alt=\"Open In Colab\"/></a>"
      ]
    },
    {
      "cell_type": "code",
      "execution_count": 1,
      "metadata": {
        "colab": {
          "base_uri": "https://localhost:8080/"
        },
        "id": "3qMu6kvPgdGa",
        "outputId": "39164c20-973b-4df8-8728-b56e2fa52cfe"
      },
      "outputs": [
        {
          "output_type": "stream",
          "name": "stdout",
          "text": [
            "Reading package lists... Done\n",
            "Building dependency tree... Done\n",
            "Reading state information... Done\n",
            "The following additional packages will be installed:\n",
            "  tesseract-ocr tesseract-ocr-eng tesseract-ocr-osd\n",
            "The following NEW packages will be installed:\n",
            "  tesseract-ocr tesseract-ocr-eng tesseract-ocr-hin tesseract-ocr-osd\n",
            "0 upgraded, 4 newly installed, 0 to remove and 45 not upgraded.\n",
            "Need to get 5,729 kB of archives.\n",
            "After this operation, 16.8 MB of additional disk space will be used.\n",
            "Get:1 http://archive.ubuntu.com/ubuntu jammy/universe amd64 tesseract-ocr-eng all 1:4.00~git30-7274cfa-1.1 [1,591 kB]\n",
            "Get:2 http://archive.ubuntu.com/ubuntu jammy/universe amd64 tesseract-ocr-osd all 1:4.00~git30-7274cfa-1.1 [2,990 kB]\n",
            "Get:3 http://archive.ubuntu.com/ubuntu jammy/universe amd64 tesseract-ocr amd64 4.1.1-2.1build1 [236 kB]\n",
            "Get:4 http://archive.ubuntu.com/ubuntu jammy/universe amd64 tesseract-ocr-hin all 1:4.00~git30-7274cfa-1.1 [913 kB]\n",
            "Fetched 5,729 kB in 3s (2,168 kB/s)\n",
            "debconf: unable to initialize frontend: Dialog\n",
            "debconf: (No usable dialog-like program is installed, so the dialog based frontend cannot be used. at /usr/share/perl5/Debconf/FrontEnd/Dialog.pm line 78, <> line 4.)\n",
            "debconf: falling back to frontend: Readline\n",
            "debconf: unable to initialize frontend: Readline\n",
            "debconf: (This frontend requires a controlling tty.)\n",
            "debconf: falling back to frontend: Teletype\n",
            "dpkg-preconfigure: unable to re-open stdin: \n",
            "Selecting previously unselected package tesseract-ocr-eng.\n",
            "(Reading database ... 121913 files and directories currently installed.)\n",
            "Preparing to unpack .../tesseract-ocr-eng_1%3a4.00~git30-7274cfa-1.1_all.deb ...\n",
            "Unpacking tesseract-ocr-eng (1:4.00~git30-7274cfa-1.1) ...\n",
            "Selecting previously unselected package tesseract-ocr-osd.\n",
            "Preparing to unpack .../tesseract-ocr-osd_1%3a4.00~git30-7274cfa-1.1_all.deb ...\n",
            "Unpacking tesseract-ocr-osd (1:4.00~git30-7274cfa-1.1) ...\n",
            "Selecting previously unselected package tesseract-ocr.\n",
            "Preparing to unpack .../tesseract-ocr_4.1.1-2.1build1_amd64.deb ...\n",
            "Unpacking tesseract-ocr (4.1.1-2.1build1) ...\n",
            "Selecting previously unselected package tesseract-ocr-hin.\n",
            "Preparing to unpack .../tesseract-ocr-hin_1%3a4.00~git30-7274cfa-1.1_all.deb ...\n",
            "Unpacking tesseract-ocr-hin (1:4.00~git30-7274cfa-1.1) ...\n",
            "Setting up tesseract-ocr-eng (1:4.00~git30-7274cfa-1.1) ...\n",
            "Setting up tesseract-ocr-osd (1:4.00~git30-7274cfa-1.1) ...\n",
            "Setting up tesseract-ocr-hin (1:4.00~git30-7274cfa-1.1) ...\n",
            "Setting up tesseract-ocr (4.1.1-2.1build1) ...\n",
            "Processing triggers for man-db (2.10.2-1) ...\n"
          ]
        }
      ],
      "source": [
        "!sudo apt-get install tesseract-ocr-hin"
      ]
    },
    {
      "cell_type": "code",
      "source": [
        "pip install tesseract"
      ],
      "metadata": {
        "colab": {
          "base_uri": "https://localhost:8080/"
        },
        "id": "K5G4s0UsgjC9",
        "outputId": "d8c8e4b6-30d3-45c1-dc29-e69500539286"
      },
      "execution_count": 3,
      "outputs": [
        {
          "output_type": "stream",
          "name": "stdout",
          "text": [
            "Collecting tesseract\n",
            "  Downloading tesseract-0.1.3.tar.gz (45.6 MB)\n",
            "\u001b[2K     \u001b[90m━━━━━━━━━━━━━━━━━━━━━━━━━━━━━━━━━━━━━━━━\u001b[0m \u001b[32m45.6/45.6 MB\u001b[0m \u001b[31m10.2 MB/s\u001b[0m eta \u001b[36m0:00:00\u001b[0m\n",
            "\u001b[?25h  Preparing metadata (setup.py) ... \u001b[?25l\u001b[?25hdone\n",
            "Building wheels for collected packages: tesseract\n",
            "  Building wheel for tesseract (setup.py) ... \u001b[?25l\u001b[?25hdone\n",
            "  Created wheel for tesseract: filename=tesseract-0.1.3-py3-none-any.whl size=45562552 sha256=7d6b9c82ee0ebd85278be38e1eb97a4106cae911c24028ca152f6896612dcd31\n",
            "  Stored in directory: /root/.cache/pip/wheels/71/c9/aa/698c579693e83fdda9ad6d6f0d8f61ed986e27925ef576f109\n",
            "Successfully built tesseract\n",
            "Installing collected packages: tesseract\n",
            "Successfully installed tesseract-0.1.3\n"
          ]
        }
      ]
    },
    {
      "cell_type": "code",
      "source": [
        "i=0"
      ],
      "metadata": {
        "id": "ZBRcT6YvgqIp"
      },
      "execution_count": 5,
      "outputs": []
    },
    {
      "cell_type": "code",
      "source": [
        "text=[]"
      ],
      "metadata": {
        "id": "0AqjcU5ag0Ag"
      },
      "execution_count": 6,
      "outputs": []
    },
    {
      "cell_type": "code",
      "source": [
        "pip install pymupdf pytesseract pillow"
      ],
      "metadata": {
        "colab": {
          "base_uri": "https://localhost:8080/"
        },
        "id": "2fRGvpsgg5Pm",
        "outputId": "5df8b483-aa0d-436a-9d51-e4c3b2b913d8"
      },
      "execution_count": 7,
      "outputs": [
        {
          "output_type": "stream",
          "name": "stdout",
          "text": [
            "Collecting pymupdf\n",
            "  Downloading PyMuPDF-1.24.5-cp310-none-manylinux2014_x86_64.whl (3.5 MB)\n",
            "\u001b[2K     \u001b[90m━━━━━━━━━━━━━━━━━━━━━━━━━━━━━━━━━━━━━━━━\u001b[0m \u001b[32m3.5/3.5 MB\u001b[0m \u001b[31m11.9 MB/s\u001b[0m eta \u001b[36m0:00:00\u001b[0m\n",
            "\u001b[?25hCollecting pytesseract\n",
            "  Downloading pytesseract-0.3.10-py3-none-any.whl (14 kB)\n",
            "Requirement already satisfied: pillow in /usr/local/lib/python3.10/dist-packages (9.4.0)\n",
            "Collecting PyMuPDFb==1.24.3 (from pymupdf)\n",
            "  Downloading PyMuPDFb-1.24.3-py3-none-manylinux2014_x86_64.manylinux_2_17_x86_64.whl (15.8 MB)\n",
            "\u001b[2K     \u001b[90m━━━━━━━━━━━━━━━━━━━━━━━━━━━━━━━━━━━━━━━━\u001b[0m \u001b[32m15.8/15.8 MB\u001b[0m \u001b[31m34.4 MB/s\u001b[0m eta \u001b[36m0:00:00\u001b[0m\n",
            "\u001b[?25hRequirement already satisfied: packaging>=21.3 in /usr/local/lib/python3.10/dist-packages (from pytesseract) (24.1)\n",
            "Installing collected packages: pytesseract, PyMuPDFb, pymupdf\n",
            "Successfully installed PyMuPDFb-1.24.3 pymupdf-1.24.5 pytesseract-0.3.10\n"
          ]
        }
      ]
    },
    {
      "cell_type": "code",
      "source": [
        "import cv2\n",
        "from PIL import Image\n",
        "import pytesseract"
      ],
      "metadata": {
        "id": "-NwKp20BhjWe"
      },
      "execution_count": 47,
      "outputs": []
    },
    {
      "cell_type": "code",
      "source": [
        "import fitz  # PyMuPDF\n",
        "import io"
      ],
      "metadata": {
        "id": "F0OKU8shhoOy"
      },
      "execution_count": 48,
      "outputs": []
    },
    {
      "cell_type": "code",
      "source": [
        "#binerisation\n",
        "def grayscale(image):\n",
        "    return cv2.cvtColor(image, cv2.COLOR_BGR2GRAY)"
      ],
      "metadata": {
        "id": "DLLsIL4hnTuz"
      },
      "execution_count": 49,
      "outputs": []
    },
    {
      "cell_type": "code",
      "source": [
        "def noise_removal(image):\n",
        "    import numpy as np\n",
        "    kernel = np.ones((1, 1), np.uint8)\n",
        "    image = cv2.dilate(image, kernel, iterations=1)\n",
        "    image = cv2.erode(image, kernel, iterations=1)\n",
        "    image = cv2.morphologyEx(image, cv2.MORPH_CLOSE, kernel)#for noice\n",
        "    image = cv2.medianBlur(image, 3)#for noice\n",
        "    return image"
      ],
      "metadata": {
        "id": "fn6bv2j2jd4z"
      },
      "execution_count": 72,
      "outputs": []
    },
    {
      "cell_type": "code",
      "source": [
        "import numpy as np"
      ],
      "metadata": {
        "id": "zB3HaawBtlE6"
      },
      "execution_count": 59,
      "outputs": []
    },
    {
      "cell_type": "code",
      "source": [
        "def letsgoo(pdf_path):\n",
        "    pdf_document = fitz.open(pdf_path)\n",
        "    i=0\n",
        "    text = {}\n",
        "    for page_num in range(len(pdf_document)):\n",
        "        page = pdf_document.load_page(page_num)\n",
        "        pix = page.get_pixmap()\n",
        "        img_bytes = pix.tobytes()\n",
        "        image = Image.open(io.BytesIO(img_bytes))\n",
        "        image = np.array(image)\n",
        "        image = grayscale(image)\n",
        "        # image = noise_removal(image)\n",
        "        text[i]=(pytesseract.image_to_string(image, lang='hin'))\n",
        "        i=i+1\n",
        "\n",
        "    return text"
      ],
      "metadata": {
        "id": "-PNe0Fc6swOz"
      },
      "execution_count": 83,
      "outputs": []
    },
    {
      "cell_type": "markdown",
      "source": [],
      "metadata": {
        "id": "ig8EvizDsvvx"
      }
    },
    {
      "cell_type": "code",
      "source": [
        "path1='/content/drive/MyDrive/2024/2024031112250190381.pdf'"
      ],
      "metadata": {
        "id": "jDG-dTVWjmZt"
      },
      "execution_count": 77,
      "outputs": []
    },
    {
      "cell_type": "code",
      "source": [
        "text=letsgoo(path1)"
      ],
      "metadata": {
        "id": "KviaJJsemRZP"
      },
      "execution_count": 78,
      "outputs": []
    },
    {
      "cell_type": "code",
      "source": [
        "print(text[0])"
      ],
      "metadata": {
        "colab": {
          "base_uri": "https://localhost:8080/"
        },
        "id": "wtho0l0sx0xG",
        "outputId": "931de53b-6b30-4aa0-b064-091dcb49c908"
      },
      "execution_count": 89,
      "outputs": [
        {
          "output_type": "stream",
          "name": "stdout",
          "text": [
            " \n",
            "\n",
            "विजय कुमार, परिपत्र संख्या-04 /2024\n",
            "आई0पी0एस०0 पुलिस महानिदेशक,\n",
            "उत्तर प्रदेश\n",
            "\n",
            "'पतित गुख्धालद, टावर-2,\n",
            "\n",
            "दिनांक: लखनऊ: जनवरी 3, 2024\n",
            "विषय- आपराधिक मामलों में विवेचना के दौरान विधे ब\n",
            "\n",
            "# मामलों में चना वे (न चकों द्वारा की जाने सामान्य\n",
            "\n",
            "जूटियों एवं उनके निवारण हेतु उपाया हद जाते बालो सामान्य\n",
            "\n",
            " \n",
            "\n",
            " \n",
            "\n",
            "प्रिय\n",
            "\n",
            " \n",
            "\n",
            "ऐोदय // म गा,\n",
            "\n",
            "अवगत कराना है कि विभिन्‍न आपराधिक मामलों में विचारण मा0 न्यायालय द्वारा\n",
            "दिये गये निर्णयों के अध्ययन एवं उनकी समीक्षा किये जाने से यह तथ्य साभने आया है कि\n",
            "विवेचको द्वारा विवेचना के कम में कतिपय महत्वपूर्ण विनदुओं पर ध्यान नहीं दिया जाता है.\n",
            "जिसके फलस्वरूप मा0 न्यायालय में साक्षियों का शा्षय कराये जाने एवं अभियोजन कथान्ट\n",
            "को युक्तियुकत संदेह से परे साबित किये जाने में समस्‍या उत्पन्न होती है. जिसके कारण\n",
            "विचारण की परिणति दोषमुक्ति के रूप में होती है।\n",
            "2... आप सहमत होगे कि आपराधिक मामलों में विवेधना के दौरान विदेचकों द्वारा की\n",
            "जाने वाले त्रुटियाँ जिनके फलस्वरूप अभियोगों का सफल विचारण नहीं होता है. उनके\n",
            "निवारण हेतु कतिपय उपाय सुझाये जा रहे हैं, जिनका विवरण निम्नवत है?“\n",
            "\n",
            "  \n",
            "\n",
            " \n",
            "\n",
            " \n",
            "\n",
            " \n",
            "\n",
            "न क्र0 | विवेचनात्मक ब्रुटियों जिनके\n",
            "|| आर पर मुकदमे चुटियों के निवारण के उपाय\n",
            "(___ दोषमुक्ति होती है।\n",
            "+ बम सूचना रिपोर्ट दर्ज कराये 7-कक कम जद क्ष स्यान दज करते क्षतम त्मत छत\n",
            "जाने में हुए विलम्ब को स्पष्ट | रिपोर्ट दर्ज कराये जाने में हुए विलम्ब के सम्बच् मे प्रश्न पूछना\n",
            "न किया जाना चाहिये और उसका कारण सहित उत्त्तर वादी के धारा 6। सी.\n",
            "आरपीसी. के बयान में शामिल करना चाहिये।\n",
            "| । 2-समस्त थाना प्रभारियों को यह सुनिश्चित करना चाहिये कि\n",
            "किसी भी प्रथम सूचना रिपोर्ट को दर्ज कराये जाने में थाना\n",
            "| स्तर से कोई विलम्ब नहीं होना चाहिये।\n",
            "(4 | छिल्कल्यल का जवलत्य एव[+-प्रयम सूचना रिपोट दर्ज होते ही बने के जऋत्लघक\n",
            "उचित निरीक्षण न किया जाना | अधिकारी को यह सुनिश्चित करना चहिये कि घटनास्थल को\n",
            "और घटनास्थल से समुचित | अविलम्ब संरक्षित किया जाये।\n",
            "साक्ष्यों को संग्रहित न किया |2-पिवेचना ग्रहण करते ही विवेधक को तत्काल फील्ड यूनिट\n",
            "ना। के साथ घटनास्थल पर पहुँचकर गहनता से घटनास्थल का\n",
            "निरीक्षण करना चाहिये तथा स्पष्ट रूप से अपने हस्तलेख में\n",
            "| घटनास्थल का मानचित्र तैयार करना चाहिये।\n",
            "\n",
            " \n",
            "\n",
            "   \n",
            "\n",
            " \n",
            "\n",
            " \n",
            "\n",
            " \n",
            "\n",
            " \n",
            "\n",
            "   \n",
            "\n",
            " \n",
            "\n",
            "3-पटनास्थल पर पहुँचकर घटनास्थल की सर्वप्रधम फोटोग्राफी\n",
            "| एवं वीडियोग्राफी करायी जाये।\n",
            "\n",
            "  \n",
            "\n",
            "4-मानपित्र में घटनास्थल की समस्त स्थितियों यथा वस्तुओं की\n",
            "रिथिति, संदिग्ध आरोषियों के आने व जाने का मार्ग, प्रकाश\n",
            "सोत की स्थिति, पेड़-पौधों की स्थिति आदि को रपष्ट रूप से\n",
            "| अकित करना चाहिये।\n",
            "\n",
            " \n",
            "\n",
            "&-घटनास्थल पर मौजूद समस्त छोटे से छोटे साक्ष्यों यथा\n",
            "कोई भी ऐसी चरतु जो संदेह उत्पन्न करती हो जैसे सिगरेट के\n",
            "डुकड़े, पैरों के निशान, टूटी हुई कॉंच को भी संकलित करना\n",
            "चाहिये।\n",
            "\n",
            " \n",
            "\n",
            " \n",
            "\n",
            " \n",
            "\f\n"
          ]
        }
      ]
    },
    {
      "cell_type": "code",
      "source": [
        "print(text[1])"
      ],
      "metadata": {
        "colab": {
          "base_uri": "https://localhost:8080/"
        },
        "id": "OgzPghChs7oA",
        "outputId": "ce164d64-3485-4127-d805-a964280262d4"
      },
      "execution_count": 79,
      "outputs": [
        {
          "output_type": "stream",
          "name": "stdout",
          "text": [
            "हू कल्कल्यल फर मौजूद सभी वस्तुओं पर से <\n",
            "द्वारा सम्भावित अंगुलिचिन्ह ट्रेस किये जाने चाहिये।\n",
            "7“यदि घटनास्थल कम्प्यूटर अपराध से सम्बन्धित है तब\n",
            "विवेचक को यह सुनिश्चित करना चाहिये कि वह वहाँ पर\n",
            "साइबर ऐकरापर्ट फील्ड यूनिट को साथ लेकर जायें और वहाँ\n",
            "रुखे किरी भी कम्प्यूटर प्रिटर या उससे संलग्न किसी भी ड्राइव\n",
            "या अन्य किसी बरतु को बिना विशेषज्ञ की सलाह के छुएँ नहीं\n",
            "और न ही किसी भी शिस्टम को ऑन या ऑफ करें या\n",
            "संचालित करें। ऐसा किये जाने से उपलब्ध साक्ष्य नष्ट हो जाने\n",
            "की रिथिति बनती है।\n",
            "\n",
            "8-आग रो जलने या पानी में दूबने से हुई मृत्यु के घटनास्थल\n",
            "पर विवेचक को प्रत्येक छोटी से छोटी स्थितियों पर भी पूरी\n",
            "तरह से निगाह रखनी चाहिये। विशेष तौर पर मृतक के पजे या\n",
            "मुद॒ती में फसी हुई वस्तुओं को देखा जाना चाहिये और उन्हें\n",
            "संग्रहित करना चाहिये।\n",
            "\n",
            "9-यदि विवेचक हत्या, हत्या का प्रयास या अन्य प्रकार से\n",
            "मारपीट करने के घटनास्थल पर जाता है, तो उसे घटनास्थल\n",
            "| आसपास अत्यंत गहनता के साथ साक्ष्य एकत्रित करने |\n",
            "चाहिये जिससे घटना -में प्रयुक्त हथियार//बुलेट/खोला,\n",
            "कारतूस था चोट पहुँचाने में प्रयुक्त कोई भी वस्तु, ऐसा कोई\n",
            "कपड़ा या कागज जिससे किसी भी साक्ष्य को विलोपित करने\n",
            "'का प्रयास किया गया हो. प्राप्त किया जा सके।\n",
            "\n",
            " \n",
            "\n",
            " \n",
            "\n",
            " \n",
            "\n",
            "  \n",
            "\n",
            " \n",
            "\n",
            " \n",
            "\n",
            " \n",
            "\n",
            " \n",
            "\n",
            "3 | घटनास्थल से संग्रहित प्रदर्शो\n",
            "एवं साक्ष्यों| की समुचित\n",
            "सैम्पलिंग न किया जाना\n",
            "\n",
            "१“ घटनास्थल से प्राप्त सी वस्तुओं की वकिन के कलिग\n",
            "फील्डयूनिट विशेषज्ञ की देखरेख मे की जानी चाहिये।\n",
            "\n",
            "हत्या, मारपीट, सड़क दुर्घटना या अन्य हिंसात्मक अपराध\n",
            "की दशा में घटनास्थल से खूनालूदा एवं सादी मिद॒टी कब्जे में\n",
            "अवश्य ली जानी चाहिये और उसे समुचित रूप से सर्वमुहर\n",
            "किया जाना चाहिये। साथ ही साथ मृतक,/चोटहिल के\n",
            "चुनालूद कपड़े भी रहित कार सर्वशुर 'किये जाने चाहिये।\n",
            "3-चोट के मामलों में चोट पहुँचाने में प्रयुक्त हथियार को प्राप्त\n",
            "करने का प्रयास विवेचक द्वारा अवश्य करना चाहिये और ऐसा\n",
            "हथियार बरामद होने पर उसे सर्वमुहर कर तत्काल ही\n",
            "बैलिस्टिक जाँच हेतु एफएस.एल. भेजा जाना चाहिये।\n",
            "4-घटनास्थल से संग्रहित सभी प्रदर्शो को तत्काल डाकेट तैयार\n",
            "कराकर फोरेंसिक जॉय हेतु एफएसएल, भेजा जाना चाहिये\n",
            "जिससे अनावश्यक रूप से रखे जाने के कारण प्रदर्श खराब न\n",
            "हो सकें\n",
            "\n",
            "5&-विवेधक द्वारा डाकेट की एक प्रति केस डायरी में भी संलग्न\n",
            "करनी चाहिये जिससे यह ज्ञात हो सके कि कौन-कौन से\n",
            "प्रदर्श एफएस एल. जाँच हेतु भेजे गये हैं।\n",
            "\n",
            "&6-इलेक्ट्रानिक साय संग्राहित किये जाते समय 65वी साक्ष्य\n",
            "अधिनियम का प्रमाण पत्र अनिवार्यत: प्राप्त कर केसडायरी में\n",
            "\n",
            "संलग्न किया जाये।\n",
            "\n",
            " \n",
            "\n",
            " \n",
            "\n",
            " \n",
            "\n",
            "ज्षक्ष व उत्य क्षाक्यों का\n",
            "बयान दर्ज करने में विलम्ब\n",
            "करना तथा अपूर्ण बयान दर्ज\n",
            "करना\n",
            "\n",
            " \n",
            "\n",
            "१-विवेत्रक को विधा प्राप्त होते हो तत्काल बाद: वीडित एव\n",
            "अन्य साक्षियों का बयान दर्ज करना चाहिये।\n",
            "\n",
            "2-विवेचक को वादी, पीड़ित तथा तथ्य के अन्य साक्षियों का\n",
            "बयान दर्ज करते समय प्रश्नोत्तर के रूप में बयान दर्ज करना\n",
            "चाहिये जिसमें उस साथी के ड्वारा बताये जाने याले सभी तथ्यों\n",
            "को व्यापक रूप से समाहित किया जा सके। बयान इस प्रकार\n",
            "नहीं दर्ज किया जाना चाहिये कि वह प्रथम सूचना रिपोर्ट का\n",
            "\n",
            "प्रतिरूप प्रतीत हो।\n",
            "\n",
            " \n",
            "\n",
            " \n",
            "\n",
            "  \n",
            "\n",
            " \n",
            "\n",
            " \n",
            "\n",
            " \n",
            "\n",
            " \n",
            "\f\n"
          ]
        }
      ]
    },
    {
      "cell_type": "code",
      "source": [
        "path2='/content/drive/MyDrive/2024/2024031112254720192.pdf'"
      ],
      "metadata": {
        "id": "OJ7Ti_hRvwSw"
      },
      "execution_count": 84,
      "outputs": []
    },
    {
      "cell_type": "code",
      "source": [
        "text2=letsgoo(path2)"
      ],
      "metadata": {
        "id": "wfcEKtEgxVjG"
      },
      "execution_count": 85,
      "outputs": []
    },
    {
      "cell_type": "code",
      "source": [
        "print(text2[0])"
      ],
      "metadata": {
        "colab": {
          "base_uri": "https://localhost:8080/"
        },
        "id": "yXoaZ5Nrxfs7",
        "outputId": "5beb52d1-5c1a-412a-ffe5-c0412966b60b"
      },
      "execution_count": 87,
      "outputs": [
        {
          "output_type": "stream",
          "name": "stdout",
          "text": [
            " \n",
            "\n",
            "परिपत्र संख्या: 0.2, /2024\n",
            "विजय कुमार, पुलिस महानिदेशक,\n",
            "'आतपुणरे० उत्तर प्रदेश।\n",
            "पुलिस मुख्यालय, गोमतीनगर विस्तार, लखनऊ-226002\n",
            "दिनांक: लखनऊ: जनवरी /4. 2024\n",
            "\n",
            "  \n",
            "\n",
            "प्रिय महोदय / महोदया,\n",
            "\n",
            "जैसा कि आप भली भौंति अवगत हैं कि 86 से उ0प्र0 पुलिस के\n",
            "इतिहास तथा विभिन्‍न उपलब्धियों एवं आयाम का संकलन ((णाफ़ीभांण) कर\n",
            "उ0प्र० पुलिस का ॥॥०)००/०१७ तैयार किए जाने हेतु पुलिस महानिदेशक,\n",
            "नियम एवं ग्रन्थ, उ0प्र0, लखनऊ के अध्यक्षता में एक उच्च स्तरीय समिति का गठन\n",
            "किया गया है जिसमें पुलिस अधीक्षक, नियम एवं ग्रन्थ तथा सेनानायक, चतुर्थ\n",
            "वाहिनी पीएसी को सदस्य के रूप में नामित किया गया है।\n",
            "\n",
            "2- उक्त समिति द्वारा काफी सराहनीय कार्य किया गया है। अब तक\n",
            "एए 50७6 #पवका४० से 032 पत्रावलियाँ /अभिलेखों के 50000 पृष्ठों को लिस्ट कर\n",
            "प्राप्त किया गया। इसी प्रकार 857 से 205 तक के 54 पुलिस गज़ट तथा 904\n",
            "से 2002 तक के 54 प्रशासनिक रिपोर्ट (80वांग्राआआश्ट १०७०0 से रशाल्एआा\n",
            "थमा संकलित किया गया है। इसके अतिरिक्त समस्त इकाई मुख्यालयों से उनके\n",
            "गठन के शासनादेश आदि माँग कर भी इस ॥॥०)००/००४ में संरक्षित किया गया।\n",
            "3 जरा से एक $ल्‍७०॥ ?०/७| का 0700०0९ बनाया गया है जिसके\n",
            "माध्यम से किसी विशेष अवधि की किसी विषय से सम्बन्धित अभिलेखों को सुगमता\n",
            "से $८७०॥ किया जा सकता है। शीघ्र ही 5जीजक्चा० को 5८8०00 कर (.॥७९ ब७वा[\n",
            "कराने के उपरान्त यह ?०४४। समस्त को उपलब्ध कराया जा सकेगा जो पुलिस से\n",
            "सम्बन्धित शोध का कार्य करने वालों के लिए काफी उपयोगी होगा।\n",
            "\n",
            " \n",
            "\n",
            " \n",
            "\n",
            " \n",
            "\n",
            "4- उपरोक्त /एथका४० कार्य प्रगतिशील है तथा इसे निरन्तर चलाये\n",
            "जाने के उद्देश्य से नियम एवं ग्रन्थ में एक पुरालेख (#ल्कांश्श) इकाई की स्थापना\n",
            "की जा रही है जो उ0प्र0 पुलिस से सम्बन्धित बहुमूल्य अभिलेखों को नेशनल\n",
            "लाइब्रेरी, कोलकाता, नई दिल्‍ली स्थित नेशनल पुरालेख, सरकारी व गैर सरकारी\n",
            "लाइब्रेरी. पी.एम. म्यूजियम व लाइब्रेरी, सांसदीय लाइब्रेरी आदि से ढूंढ़ व प्राप्त\n",
            "कर एकत्रित करेगी। इसके लिए 04 पुलिस 'उपाधीक्षक सहित उत्तर प्रदेश से सभी\n",
            "संवर्ग के इच्छुक एवं योग्य ॥0 अधिकारियों व कर्मचारियों की आवश्यकता है।\n",
            "\n",
            "ह- जो अधिकारी व कमैचारी इस कार्य में अपना पूर्ण योगदान देने के\n",
            "इच्छुक हों और जिन्हें हिन्दी ([॥7%) व अँग्रेजी (2॥/2#90) भाषा का अच्छा ज्ञान हो,\n",
            "वह अपने कार्यालय,/इकाई प्रमुख के माध्यम से अपना प्रार्थना-पत्र विलम्बतम\n",
            "दिनांक: 40.02.2024 तक पुलिस महानिदेशक, नियम एवं ग्रन्थ, उ0प्रण, लखनऊ को\n",
            "2/-\n",
            "\f\n"
          ]
        }
      ]
    },
    {
      "cell_type": "code",
      "source": [
        "print(text2[1])"
      ],
      "metadata": {
        "colab": {
          "base_uri": "https://localhost:8080/"
        },
        "id": "ygFCOg3oxhku",
        "outputId": "f2e350bd-5c34-4646-c7e2-9012f7bb3a44"
      },
      "execution_count": 88,
      "outputs": [
        {
          "output_type": "stream",
          "name": "stdout",
          "text": [
            "->2-\n",
            "\n",
            "प्रेषित कर सकते हैं ताकि उनमें से उक्त कार्य उपयोगी\n",
            "कर्मचारी का चयन किया जय कत कार्य के लिए उपयोगी अधिकारी व\n",
            "\n",
            "को सके। कप्यूटर का ज्ञान रखने वाले अधिकारी, कर्मचारी\n",
            "को वरीयता प्रदान की जायेगी। हट का जान ले अधिकारी कर्मचारी\n",
            "\n",
            "भवदीय,\n",
            "\n",
            " \n",
            "\n",
            "समस्त जनपदीय / इकाई प्रभारी,\n",
            "\n",
            "(४८८\n",
            "( विजय कुमार )\n",
            "उत्तर प्रदेश।\n",
            "\n",
            "प्रतिलपि-पुलिस महानिदेशक, रूलस एण्ड मैनुअल, उ0प्र,\n",
            "लखनऊ को सूचनार्थ एवं उपरोक्तानुसार आवश्यक कार्यवाही हेतु प्रेषित।\n",
            "\f\n"
          ]
        }
      ]
    },
    {
      "cell_type": "code",
      "source": [],
      "metadata": {
        "id": "LjbTpSEdxysI"
      },
      "execution_count": null,
      "outputs": []
    }
  ]
}